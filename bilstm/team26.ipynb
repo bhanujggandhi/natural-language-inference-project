{
 "cells": [
  {
   "attachments": {},
   "cell_type": "markdown",
   "metadata": {},
   "source": [
    "# Natural Language Inference\n",
    "\n",
    "*Submitted by: Team 26*"
   ]
  },
  {
   "cell_type": "markdown",
   "metadata": {},
   "source": [
    "### Library Imports"
   ]
  },
  {
   "cell_type": "code",
   "execution_count": 97,
   "metadata": {},
   "outputs": [],
   "source": [
    "import pandas as pd\n",
    "import numpy as np\n",
    "import matplotlib.pyplot as plt\n",
    "import seaborn as sns\n"
   ]
  },
  {
   "cell_type": "code",
   "execution_count": 98,
   "metadata": {},
   "outputs": [],
   "source": [
    "df = pd.read_csv('./snli_1.0/snli_1.0_train.txt', delimiter='\\t', encoding='utf-8', on_bad_lines='skip')"
   ]
  },
  {
   "cell_type": "code",
   "execution_count": 99,
   "metadata": {},
   "outputs": [
    {
     "data": {
      "text/html": [
       "<div>\n",
       "<style scoped>\n",
       "    .dataframe tbody tr th:only-of-type {\n",
       "        vertical-align: middle;\n",
       "    }\n",
       "\n",
       "    .dataframe tbody tr th {\n",
       "        vertical-align: top;\n",
       "    }\n",
       "\n",
       "    .dataframe thead th {\n",
       "        text-align: right;\n",
       "    }\n",
       "</style>\n",
       "<table border=\"1\" class=\"dataframe\">\n",
       "  <thead>\n",
       "    <tr style=\"text-align: right;\">\n",
       "      <th></th>\n",
       "      <th>gold_label</th>\n",
       "      <th>sentence1_binary_parse</th>\n",
       "      <th>sentence2_binary_parse</th>\n",
       "      <th>sentence1_parse</th>\n",
       "      <th>sentence2_parse</th>\n",
       "      <th>sentence1</th>\n",
       "      <th>sentence2</th>\n",
       "      <th>captionID</th>\n",
       "      <th>pairID</th>\n",
       "      <th>label1</th>\n",
       "      <th>label2</th>\n",
       "      <th>label3</th>\n",
       "      <th>label4</th>\n",
       "      <th>label5</th>\n",
       "    </tr>\n",
       "  </thead>\n",
       "  <tbody>\n",
       "    <tr>\n",
       "      <th>0</th>\n",
       "      <td>neutral</td>\n",
       "      <td>( ( ( A person ) ( on ( a horse ) ) ) ( ( jump...</td>\n",
       "      <td>( ( A person ) ( ( is ( ( training ( his horse...</td>\n",
       "      <td>(ROOT (S (NP (NP (DT A) (NN person)) (PP (IN o...</td>\n",
       "      <td>(ROOT (S (NP (DT A) (NN person)) (VP (VBZ is) ...</td>\n",
       "      <td>A person on a horse jumps over a broken down a...</td>\n",
       "      <td>A person is training his horse for a competition.</td>\n",
       "      <td>3416050480.jpg#4</td>\n",
       "      <td>3416050480.jpg#4r1n</td>\n",
       "      <td>neutral</td>\n",
       "      <td>NaN</td>\n",
       "      <td>NaN</td>\n",
       "      <td>NaN</td>\n",
       "      <td>NaN</td>\n",
       "    </tr>\n",
       "    <tr>\n",
       "      <th>1</th>\n",
       "      <td>contradiction</td>\n",
       "      <td>( ( ( A person ) ( on ( a horse ) ) ) ( ( jump...</td>\n",
       "      <td>( ( A person ) ( ( ( ( is ( at ( a diner ) ) )...</td>\n",
       "      <td>(ROOT (S (NP (NP (DT A) (NN person)) (PP (IN o...</td>\n",
       "      <td>(ROOT (S (NP (DT A) (NN person)) (VP (VBZ is) ...</td>\n",
       "      <td>A person on a horse jumps over a broken down a...</td>\n",
       "      <td>A person is at a diner, ordering an omelette.</td>\n",
       "      <td>3416050480.jpg#4</td>\n",
       "      <td>3416050480.jpg#4r1c</td>\n",
       "      <td>contradiction</td>\n",
       "      <td>NaN</td>\n",
       "      <td>NaN</td>\n",
       "      <td>NaN</td>\n",
       "      <td>NaN</td>\n",
       "    </tr>\n",
       "    <tr>\n",
       "      <th>2</th>\n",
       "      <td>entailment</td>\n",
       "      <td>( ( ( A person ) ( on ( a horse ) ) ) ( ( jump...</td>\n",
       "      <td>( ( A person ) ( ( ( ( is outdoors ) , ) ( on ...</td>\n",
       "      <td>(ROOT (S (NP (NP (DT A) (NN person)) (PP (IN o...</td>\n",
       "      <td>(ROOT (S (NP (DT A) (NN person)) (VP (VBZ is) ...</td>\n",
       "      <td>A person on a horse jumps over a broken down a...</td>\n",
       "      <td>A person is outdoors, on a horse.</td>\n",
       "      <td>3416050480.jpg#4</td>\n",
       "      <td>3416050480.jpg#4r1e</td>\n",
       "      <td>entailment</td>\n",
       "      <td>NaN</td>\n",
       "      <td>NaN</td>\n",
       "      <td>NaN</td>\n",
       "      <td>NaN</td>\n",
       "    </tr>\n",
       "    <tr>\n",
       "      <th>3</th>\n",
       "      <td>neutral</td>\n",
       "      <td>( Children ( ( ( smiling and ) waving ) ( at c...</td>\n",
       "      <td>( They ( are ( smiling ( at ( their parents ) ...</td>\n",
       "      <td>(ROOT (NP (S (NP (NNP Children)) (VP (VBG smil...</td>\n",
       "      <td>(ROOT (S (NP (PRP They)) (VP (VBP are) (VP (VB...</td>\n",
       "      <td>Children smiling and waving at camera</td>\n",
       "      <td>They are smiling at their parents</td>\n",
       "      <td>2267923837.jpg#2</td>\n",
       "      <td>2267923837.jpg#2r1n</td>\n",
       "      <td>neutral</td>\n",
       "      <td>NaN</td>\n",
       "      <td>NaN</td>\n",
       "      <td>NaN</td>\n",
       "      <td>NaN</td>\n",
       "    </tr>\n",
       "    <tr>\n",
       "      <th>4</th>\n",
       "      <td>entailment</td>\n",
       "      <td>( Children ( ( ( smiling and ) waving ) ( at c...</td>\n",
       "      <td>( There ( ( are children ) present ) )</td>\n",
       "      <td>(ROOT (NP (S (NP (NNP Children)) (VP (VBG smil...</td>\n",
       "      <td>(ROOT (S (NP (EX There)) (VP (VBP are) (NP (NN...</td>\n",
       "      <td>Children smiling and waving at camera</td>\n",
       "      <td>There are children present</td>\n",
       "      <td>2267923837.jpg#2</td>\n",
       "      <td>2267923837.jpg#2r1e</td>\n",
       "      <td>entailment</td>\n",
       "      <td>NaN</td>\n",
       "      <td>NaN</td>\n",
       "      <td>NaN</td>\n",
       "      <td>NaN</td>\n",
       "    </tr>\n",
       "  </tbody>\n",
       "</table>\n",
       "</div>"
      ],
      "text/plain": [
       "      gold_label                             sentence1_binary_parse  \\\n",
       "0        neutral  ( ( ( A person ) ( on ( a horse ) ) ) ( ( jump...   \n",
       "1  contradiction  ( ( ( A person ) ( on ( a horse ) ) ) ( ( jump...   \n",
       "2     entailment  ( ( ( A person ) ( on ( a horse ) ) ) ( ( jump...   \n",
       "3        neutral  ( Children ( ( ( smiling and ) waving ) ( at c...   \n",
       "4     entailment  ( Children ( ( ( smiling and ) waving ) ( at c...   \n",
       "\n",
       "                              sentence2_binary_parse  \\\n",
       "0  ( ( A person ) ( ( is ( ( training ( his horse...   \n",
       "1  ( ( A person ) ( ( ( ( is ( at ( a diner ) ) )...   \n",
       "2  ( ( A person ) ( ( ( ( is outdoors ) , ) ( on ...   \n",
       "3  ( They ( are ( smiling ( at ( their parents ) ...   \n",
       "4             ( There ( ( are children ) present ) )   \n",
       "\n",
       "                                     sentence1_parse  \\\n",
       "0  (ROOT (S (NP (NP (DT A) (NN person)) (PP (IN o...   \n",
       "1  (ROOT (S (NP (NP (DT A) (NN person)) (PP (IN o...   \n",
       "2  (ROOT (S (NP (NP (DT A) (NN person)) (PP (IN o...   \n",
       "3  (ROOT (NP (S (NP (NNP Children)) (VP (VBG smil...   \n",
       "4  (ROOT (NP (S (NP (NNP Children)) (VP (VBG smil...   \n",
       "\n",
       "                                     sentence2_parse  \\\n",
       "0  (ROOT (S (NP (DT A) (NN person)) (VP (VBZ is) ...   \n",
       "1  (ROOT (S (NP (DT A) (NN person)) (VP (VBZ is) ...   \n",
       "2  (ROOT (S (NP (DT A) (NN person)) (VP (VBZ is) ...   \n",
       "3  (ROOT (S (NP (PRP They)) (VP (VBP are) (VP (VB...   \n",
       "4  (ROOT (S (NP (EX There)) (VP (VBP are) (NP (NN...   \n",
       "\n",
       "                                           sentence1  \\\n",
       "0  A person on a horse jumps over a broken down a...   \n",
       "1  A person on a horse jumps over a broken down a...   \n",
       "2  A person on a horse jumps over a broken down a...   \n",
       "3              Children smiling and waving at camera   \n",
       "4              Children smiling and waving at camera   \n",
       "\n",
       "                                           sentence2         captionID  \\\n",
       "0  A person is training his horse for a competition.  3416050480.jpg#4   \n",
       "1      A person is at a diner, ordering an omelette.  3416050480.jpg#4   \n",
       "2                  A person is outdoors, on a horse.  3416050480.jpg#4   \n",
       "3                  They are smiling at their parents  2267923837.jpg#2   \n",
       "4                         There are children present  2267923837.jpg#2   \n",
       "\n",
       "                pairID         label1 label2 label3 label4 label5  \n",
       "0  3416050480.jpg#4r1n        neutral    NaN    NaN    NaN    NaN  \n",
       "1  3416050480.jpg#4r1c  contradiction    NaN    NaN    NaN    NaN  \n",
       "2  3416050480.jpg#4r1e     entailment    NaN    NaN    NaN    NaN  \n",
       "3  2267923837.jpg#2r1n        neutral    NaN    NaN    NaN    NaN  \n",
       "4  2267923837.jpg#2r1e     entailment    NaN    NaN    NaN    NaN  "
      ]
     },
     "execution_count": 99,
     "metadata": {},
     "output_type": "execute_result"
    }
   ],
   "source": [
    "df.head()"
   ]
  },
  {
   "cell_type": "code",
   "execution_count": 100,
   "metadata": {},
   "outputs": [
    {
     "name": "stdout",
     "output_type": "stream",
     "text": [
      "<class 'pandas.core.frame.DataFrame'>\n",
      "RangeIndex: 550152 entries, 0 to 550151\n",
      "Data columns (total 14 columns):\n",
      " #   Column                  Non-Null Count   Dtype \n",
      "---  ------                  --------------   ----- \n",
      " 0   gold_label              550152 non-null  object\n",
      " 1   sentence1_binary_parse  550152 non-null  object\n",
      " 2   sentence2_binary_parse  550146 non-null  object\n",
      " 3   sentence1_parse         550152 non-null  object\n",
      " 4   sentence2_parse         550152 non-null  object\n",
      " 5   sentence1               550152 non-null  object\n",
      " 6   sentence2               550146 non-null  object\n",
      " 7   captionID               550152 non-null  object\n",
      " 8   pairID                  550152 non-null  object\n",
      " 9   label1                  550152 non-null  object\n",
      " 10  label2                  39370 non-null   object\n",
      " 11  label3                  39395 non-null   object\n",
      " 12  label4                  39383 non-null   object\n",
      " 13  label5                  36914 non-null   object\n",
      "dtypes: object(14)\n",
      "memory usage: 58.8+ MB\n"
     ]
    }
   ],
   "source": [
    "df.info()"
   ]
  },
  {
   "cell_type": "code",
   "execution_count": 101,
   "metadata": {},
   "outputs": [
    {
     "name": "stdout",
     "output_type": "stream",
     "text": [
      "(550152, 14)\n"
     ]
    }
   ],
   "source": [
    "print(df.shape)\n"
   ]
  },
  {
   "cell_type": "code",
   "execution_count": 102,
   "metadata": {},
   "outputs": [
    {
     "name": "stdout",
     "output_type": "stream",
     "text": [
      "4\n",
      "150736\n",
      "480040\n"
     ]
    }
   ],
   "source": [
    "print(df['gold_label'].nunique())\n",
    "print(df['sentence1'].nunique())\n",
    "print(df['sentence2'].nunique())"
   ]
  },
  {
   "cell_type": "code",
   "execution_count": 103,
   "metadata": {},
   "outputs": [
    {
     "name": "stdout",
     "output_type": "stream",
     "text": [
      "gold_label                     0\n",
      "sentence1_binary_parse         0\n",
      "sentence2_binary_parse         6\n",
      "sentence1_parse                0\n",
      "sentence2_parse                0\n",
      "sentence1                      0\n",
      "sentence2                      6\n",
      "captionID                      0\n",
      "pairID                         0\n",
      "label1                         0\n",
      "label2                    510782\n",
      "label3                    510757\n",
      "label4                    510769\n",
      "label5                    513238\n",
      "dtype: int64\n"
     ]
    }
   ],
   "source": [
    "print(df.isnull().sum())"
   ]
  },
  {
   "cell_type": "code",
   "execution_count": 104,
   "metadata": {},
   "outputs": [
    {
     "name": "stdout",
     "output_type": "stream",
     "text": [
      "0\n"
     ]
    }
   ],
   "source": [
    "print(df.duplicated().sum())\n"
   ]
  },
  {
   "cell_type": "code",
   "execution_count": 105,
   "metadata": {},
   "outputs": [
    {
     "data": {
      "image/png": "[encoded data removed]",
      "text/plain": [
       "<Figure size 640x480 with 1 Axes>"
      ]
     },
     "metadata": {},
     "output_type": "display_data"
    }
   ],
   "source": [
    "df['gold_label'].value_counts().plot(kind='bar')\n",
    "plt.title('Distribution of Labels')\n",
    "plt.xlabel('Labels')\n",
    "plt.ylabel('Count')\n",
    "plt.show()"
   ]
  },
  {
   "cell_type": "code",
   "execution_count": 106,
   "metadata": {},
   "outputs": [
    {
     "name": "stdout",
     "output_type": "stream",
     "text": [
      "gold_label       -  contradiction  entailment  neutral\n",
      "label1                                                \n",
      "contradiction  154         182753          49      428\n",
      "entailment     248             88      182393      655\n",
      "neutral        383            346         974   181681\n"
     ]
    }
   ],
   "source": [
    "pivot = df.pivot_table(index='label1', columns='gold_label', values='sentence1', aggfunc='count')\n",
    "print(pivot)"
   ]
  },
  {
   "cell_type": "code",
   "execution_count": 107,
   "metadata": {},
   "outputs": [
    {
     "name": "stdout",
     "output_type": "stream",
     "text": [
      "       sentence1_word_count  sentence2_word_count  sentence1_char_count  \\\n",
      "count         550152.000000         550152.000000         550152.000000   \n",
      "mean              12.850772              7.420411             66.279027   \n",
      "std                5.657270              3.071719             29.390922   \n",
      "min                2.000000              1.000000              7.000000   \n",
      "25%                9.000000              5.000000             46.000000   \n",
      "50%               12.000000              7.000000             60.000000   \n",
      "75%               16.000000              9.000000             80.000000   \n",
      "max               78.000000             58.000000            402.000000   \n",
      "\n",
      "       sentence2_char_count  \n",
      "count         550152.000000  \n",
      "mean              37.477670  \n",
      "std               15.867523  \n",
      "min                1.000000  \n",
      "25%               26.000000  \n",
      "50%               34.000000  \n",
      "75%               45.000000  \n",
      "max              295.000000  \n"
     ]
    }
   ],
   "source": [
    "df['sentence1_word_count'] = df['sentence1'].apply(lambda x: len(str(x).split(\" \")))\n",
    "df['sentence2_word_count'] = df['sentence2'].apply(lambda x: len(str(x).split(\" \")))\n",
    "df['sentence1_char_count'] = df['sentence1'].apply(lambda x: len(str(x)))\n",
    "df['sentence2_char_count'] = df['sentence2'].apply(lambda x: len(str(x)))\n",
    "print(df[['sentence1_word_count', 'sentence2_word_count', 'sentence1_char_count', 'sentence2_char_count']].describe())"
   ]
  },
  {
   "cell_type": "code",
   "execution_count": 108,
   "metadata": {},
   "outputs": [
    {
     "data": {
      "image/png": "[encoded data removed]",
      "text/plain": [
       "<Figure size 640x480 with 1 Axes>"
      ]
     },
     "metadata": {},
     "output_type": "display_data"
    }
   ],
   "source": [
    "from collections import Counter\n",
    "words = Counter(\" \".join(df[\"sentence1\"]).split()).most_common(20)\n",
    "words_df = pd.DataFrame(words, columns=['Word', 'Frequency'])\n",
    "sns.barplot(x='Word', y='Frequency', data=words_df)\n",
    "plt.title('Top 20 Most Common Words in Sentence1')\n",
    "plt.xlabel('Words')\n",
    "plt.ylabel('Frequency')\n",
    "plt.show()"
   ]
  },
  {
   "attachments": {},
   "cell_type": "markdown",
   "metadata": {},
   "source": [
    "## Logistic Regression"
   ]
  },
  {
   "cell_type": "code",
   "execution_count": 109,
   "metadata": {},
   "outputs": [],
   "source": [
    "import pandas as pd\n",
    "import numpy as np\n",
    "from sklearn.feature_extraction.text import CountVectorizer, TfidfVectorizer\n",
    "from sklearn.linear_model import LogisticRegression\n",
    "from sklearn.model_selection import GridSearchCV\n",
    "from sklearn.metrics import classification_report, accuracy_score"
   ]
  },
  {
   "attachments": {},
   "cell_type": "markdown",
   "metadata": {},
   "source": [
    "#### Data-Preprocessing\n",
    "\n",
    "In this section, we are extracting all the sentences in numpy arrays in order for them to process. To preprocess them we have followed the following steps\n",
    "\n",
    "1. Dropping the values which have NULLs in them\n",
    "2. Apply tf-idf on the sentences. The `sklearn` implementation of Tfidf vectorizer removes the **english stopwords** and *lowercase* them which helps in minimising the dimension of the vectors."
   ]
  },
  {
   "cell_type": "code",
   "execution_count": 110,
   "metadata": {},
   "outputs": [],
   "source": [
    "df.drop(columns=[\"sentence1_binary_parse\", \"sentence2_binary_parse\", \"sentence1_parse\", \"sentence2_parse\", \"captionID\", \"pairID\", \"label1\", \"label2\", \"label3\", \"label4\", \"label5\", \"sentence1_word_count\", \"sentence2_word_count\", \"sentence1_char_count\", \"sentence2_char_count\"], inplace=True)"
   ]
  },
  {
   "cell_type": "code",
   "execution_count": 111,
   "metadata": {},
   "outputs": [
    {
     "data": {
      "text/html": [
       "<div>\n",
       "<style scoped>\n",
       "    .dataframe tbody tr th:only-of-type {\n",
       "        vertical-align: middle;\n",
       "    }\n",
       "\n",
       "    .dataframe tbody tr th {\n",
       "        vertical-align: top;\n",
       "    }\n",
       "\n",
       "    .dataframe thead th {\n",
       "        text-align: right;\n",
       "    }\n",
       "</style>\n",
       "<table border=\"1\" class=\"dataframe\">\n",
       "  <thead>\n",
       "    <tr style=\"text-align: right;\">\n",
       "      <th></th>\n",
       "      <th>gold_label</th>\n",
       "      <th>sentence1</th>\n",
       "      <th>sentence2</th>\n",
       "    </tr>\n",
       "  </thead>\n",
       "  <tbody>\n",
       "    <tr>\n",
       "      <th>0</th>\n",
       "      <td>neutral</td>\n",
       "      <td>A person on a horse jumps over a broken down a...</td>\n",
       "      <td>A person is training his horse for a competition.</td>\n",
       "    </tr>\n",
       "    <tr>\n",
       "      <th>1</th>\n",
       "      <td>contradiction</td>\n",
       "      <td>A person on a horse jumps over a broken down a...</td>\n",
       "      <td>A person is at a diner, ordering an omelette.</td>\n",
       "    </tr>\n",
       "    <tr>\n",
       "      <th>2</th>\n",
       "      <td>entailment</td>\n",
       "      <td>A person on a horse jumps over a broken down a...</td>\n",
       "      <td>A person is outdoors, on a horse.</td>\n",
       "    </tr>\n",
       "    <tr>\n",
       "      <th>3</th>\n",
       "      <td>neutral</td>\n",
       "      <td>Children smiling and waving at camera</td>\n",
       "      <td>They are smiling at their parents</td>\n",
       "    </tr>\n",
       "    <tr>\n",
       "      <th>4</th>\n",
       "      <td>entailment</td>\n",
       "      <td>Children smiling and waving at camera</td>\n",
       "      <td>There are children present</td>\n",
       "    </tr>\n",
       "  </tbody>\n",
       "</table>\n",
       "</div>"
      ],
      "text/plain": [
       "      gold_label                                          sentence1  \\\n",
       "0        neutral  A person on a horse jumps over a broken down a...   \n",
       "1  contradiction  A person on a horse jumps over a broken down a...   \n",
       "2     entailment  A person on a horse jumps over a broken down a...   \n",
       "3        neutral              Children smiling and waving at camera   \n",
       "4     entailment              Children smiling and waving at camera   \n",
       "\n",
       "                                           sentence2  \n",
       "0  A person is training his horse for a competition.  \n",
       "1      A person is at a diner, ordering an omelette.  \n",
       "2                  A person is outdoors, on a horse.  \n",
       "3                  They are smiling at their parents  \n",
       "4                         There are children present  "
      ]
     },
     "execution_count": 111,
     "metadata": {},
     "output_type": "execute_result"
    }
   ],
   "source": [
    "df.head()"
   ]
  },
  {
   "cell_type": "code",
   "execution_count": 112,
   "metadata": {},
   "outputs": [],
   "source": [
    "df.dropna(inplace=True)\n",
    "df.reset_index(drop=True, inplace=True)"
   ]
  },
  {
   "cell_type": "code",
   "execution_count": 113,
   "metadata": {},
   "outputs": [],
   "source": [
    "sentence_list_1 = df[\"sentence1\"].to_numpy()\n",
    "sentence_list_2 = df[\"sentence2\"].to_numpy()\n",
    "label_list = df[\"gold_label\"].to_numpy()"
   ]
  },
  {
   "cell_type": "code",
   "execution_count": 114,
   "metadata": {},
   "outputs": [
    {
     "data": {
      "text/plain": [
       "array(['A person on a horse jumps over a broken down airplane.',\n",
       "       'A person on a horse jumps over a broken down airplane.',\n",
       "       'A person on a horse jumps over a broken down airplane.',\n",
       "       'Children smiling and waving at camera',\n",
       "       'Children smiling and waving at camera',\n",
       "       'Children smiling and waving at camera',\n",
       "       'A boy is jumping on skateboard in the middle of a red bridge.',\n",
       "       'A boy is jumping on skateboard in the middle of a red bridge.',\n",
       "       'A boy is jumping on skateboard in the middle of a red bridge.',\n",
       "       'An older man sits with his orange juice at a small table in a coffee shop while employees in bright colored shirts smile in the background.'],\n",
       "      dtype=object)"
      ]
     },
     "execution_count": 114,
     "metadata": {},
     "output_type": "execute_result"
    }
   ],
   "source": [
    "sentence_list_1[:10]"
   ]
  },
  {
   "cell_type": "code",
   "execution_count": 115,
   "metadata": {},
   "outputs": [
    {
     "name": "stdout",
     "output_type": "stream",
     "text": [
      "550146 550146\n"
     ]
    }
   ],
   "source": [
    "print(len(sentence_list_1), len(sentence_list_2))"
   ]
  },
  {
   "cell_type": "code",
   "execution_count": 128,
   "metadata": {},
   "outputs": [],
   "source": [
    "tfidf_vectorizer = TfidfVectorizer(stop_words=\"english\")\n",
    "\n",
    "catsent = []\n",
    "\n",
    "\n",
    "for i in range(len(sentence_list_1)):\n",
    "    catsent.append(f\"{sentence_list_1[i]} {sentence_list_2[i]}\")\n"
   ]
  },
  {
   "cell_type": "code",
   "execution_count": 129,
   "metadata": {},
   "outputs": [],
   "source": [
    "X_train = tfidf_vectorizer.fit_transform(catsent)\n",
    "y_train = df['gold_label']"
   ]
  },
  {
   "cell_type": "code",
   "execution_count": 130,
   "metadata": {},
   "outputs": [
    {
     "data": {
      "text/plain": [
       "(550146,)"
      ]
     },
     "execution_count": 130,
     "metadata": {},
     "output_type": "execute_result"
    }
   ],
   "source": [
    "label_list.shape"
   ]
  },
  {
   "cell_type": "code",
   "execution_count": 131,
   "metadata": {},
   "outputs": [
    {
     "data": {
      "text/html": [
       "<style>#sk-container-id-9 {color: black;background-color: white;}#sk-container-id-9 pre{padding: 0;}#sk-container-id-9 div.sk-toggleable {background-color: white;}#sk-container-id-9 label.sk-toggleable__label {cursor: pointer;display: block;width: 100%;margin-bottom: 0;padding: 0.3em;box-sizing: border-box;text-align: center;}#sk-container-id-9 label.sk-toggleable__label-arrow:before {content: \"▸\";float: left;margin-right: 0.25em;color: #696969;}#sk-container-id-9 label.sk-toggleable__label-arrow:hover:before {color: black;}#sk-container-id-9 div.sk-estimator:hover label.sk-toggleable__label-arrow:before {color: black;}#sk-container-id-9 div.sk-toggleable__content {max-height: 0;max-width: 0;overflow: hidden;text-align: left;background-color: #f0f8ff;}#sk-container-id-9 div.sk-toggleable__content pre {margin: 0.2em;color: black;border-radius: 0.25em;background-color: #f0f8ff;}#sk-container-id-9 input.sk-toggleable__control:checked~div.sk-toggleable__content {max-height: 200px;max-width: 100%;overflow: auto;}#sk-container-id-9 input.sk-toggleable__control:checked~label.sk-toggleable__label-arrow:before {content: \"▾\";}#sk-container-id-9 div.sk-estimator input.sk-toggleable__control:checked~label.sk-toggleable__label {background-color: #d4ebff;}#sk-container-id-9 div.sk-label input.sk-toggleable__control:checked~label.sk-toggleable__label {background-color: #d4ebff;}#sk-container-id-9 input.sk-hidden--visually {border: 0;clip: rect(1px 1px 1px 1px);clip: rect(1px, 1px, 1px, 1px);height: 1px;margin: -1px;overflow: hidden;padding: 0;position: absolute;width: 1px;}#sk-container-id-9 div.sk-estimator {font-family: monospace;background-color: #f0f8ff;border: 1px dotted black;border-radius: 0.25em;box-sizing: border-box;margin-bottom: 0.5em;}#sk-container-id-9 div.sk-estimator:hover {background-color: #d4ebff;}#sk-container-id-9 div.sk-parallel-item::after {content: \"\";width: 100%;border-bottom: 1px solid gray;flex-grow: 1;}#sk-container-id-9 div.sk-label:hover label.sk-toggleable__label {background-color: #d4ebff;}#sk-container-id-9 div.sk-serial::before {content: \"\";position: absolute;border-left: 1px solid gray;box-sizing: border-box;top: 0;bottom: 0;left: 50%;z-index: 0;}#sk-container-id-9 div.sk-serial {display: flex;flex-direction: column;align-items: center;background-color: white;padding-right: 0.2em;padding-left: 0.2em;position: relative;}#sk-container-id-9 div.sk-item {position: relative;z-index: 1;}#sk-container-id-9 div.sk-parallel {display: flex;align-items: stretch;justify-content: center;background-color: white;position: relative;}#sk-container-id-9 div.sk-item::before, #sk-container-id-9 div.sk-parallel-item::before {content: \"\";position: absolute;border-left: 1px solid gray;box-sizing: border-box;top: 0;bottom: 0;left: 50%;z-index: -1;}#sk-container-id-9 div.sk-parallel-item {display: flex;flex-direction: column;z-index: 1;position: relative;background-color: white;}#sk-container-id-9 div.sk-parallel-item:first-child::after {align-self: flex-end;width: 50%;}#sk-container-id-9 div.sk-parallel-item:last-child::after {align-self: flex-start;width: 50%;}#sk-container-id-9 div.sk-parallel-item:only-child::after {width: 0;}#sk-container-id-9 div.sk-dashed-wrapped {border: 1px dashed gray;margin: 0 0.4em 0.5em 0.4em;box-sizing: border-box;padding-bottom: 0.4em;background-color: white;}#sk-container-id-9 div.sk-label label {font-family: monospace;font-weight: bold;display: inline-block;line-height: 1.2em;}#sk-container-id-9 div.sk-label-container {text-align: center;}#sk-container-id-9 div.sk-container {/* jupyter's `normalize.less` sets `[hidden] { display: none; }` but bootstrap.min.css set `[hidden] { display: none !important; }` so we also need the `!important` here to be able to override the default hidden behavior on the sphinx rendered scikit-learn.org. See: https://github.com/scikit-learn/scikit-learn/issues/21755 */display: inline-block !important;position: relative;}#sk-container-id-9 div.sk-text-repr-fallback {display: none;}</style><div id=\"sk-container-id-9\" class=\"sk-top-container\"><div class=\"sk-text-repr-fallback\"><pre>LogisticRegression(max_iter=10000)</pre><b>In a Jupyter environment, please rerun this cell to show the HTML representation or trust the notebook. <br />On GitHub, the HTML representation is unable to render, please try loading this page with nbviewer.org.</b></div><div class=\"sk-container\" hidden><div class=\"sk-item\"><div class=\"sk-estimator sk-toggleable\"><input class=\"sk-toggleable__control sk-hidden--visually\" id=\"sk-estimator-id-9\" type=\"checkbox\" checked><label for=\"sk-estimator-id-9\" class=\"sk-toggleable__label sk-toggleable__label-arrow\">LogisticRegression</label><div class=\"sk-toggleable__content\"><pre>LogisticRegression(max_iter=10000)</pre></div></div></div></div></div>"
      ],
      "text/plain": [
       "LogisticRegression(max_iter=10000)"
      ]
     },
     "execution_count": 131,
     "metadata": {},
     "output_type": "execute_result"
    }
   ],
   "source": [
    "lr = LogisticRegression(max_iter=10000)\n",
    "lr.fit(X_train, label_list)"
   ]
  },
  {
   "cell_type": "code",
   "execution_count": 140,
   "metadata": {},
   "outputs": [],
   "source": [
    "test_df = pd.read_csv('./snli_1.0/snli_1.0_test.txt', delimiter='\\t', encoding='utf-8', on_bad_lines='skip')"
   ]
  },
  {
   "cell_type": "code",
   "execution_count": 141,
   "metadata": {},
   "outputs": [
    {
     "data": {
      "text/html": [
       "<div>\n",
       "<style scoped>\n",
       "    .dataframe tbody tr th:only-of-type {\n",
       "        vertical-align: middle;\n",
       "    }\n",
       "\n",
       "    .dataframe tbody tr th {\n",
       "        vertical-align: top;\n",
       "    }\n",
       "\n",
       "    .dataframe thead th {\n",
       "        text-align: right;\n",
       "    }\n",
       "</style>\n",
       "<table border=\"1\" class=\"dataframe\">\n",
       "  <thead>\n",
       "    <tr style=\"text-align: right;\">\n",
       "      <th></th>\n",
       "      <th>gold_label</th>\n",
       "      <th>sentence1_binary_parse</th>\n",
       "      <th>sentence2_binary_parse</th>\n",
       "      <th>sentence1_parse</th>\n",
       "      <th>sentence2_parse</th>\n",
       "      <th>sentence1</th>\n",
       "      <th>sentence2</th>\n",
       "      <th>captionID</th>\n",
       "      <th>pairID</th>\n",
       "      <th>label1</th>\n",
       "      <th>label2</th>\n",
       "      <th>label3</th>\n",
       "      <th>label4</th>\n",
       "      <th>label5</th>\n",
       "    </tr>\n",
       "  </thead>\n",
       "  <tbody>\n",
       "    <tr>\n",
       "      <th>0</th>\n",
       "      <td>neutral</td>\n",
       "      <td>( ( This ( church choir ) ) ( ( ( sings ( to (...</td>\n",
       "      <td>( ( The church ) ( ( has ( cracks ( in ( the c...</td>\n",
       "      <td>(ROOT (S (NP (DT This) (NN church) (NN choir))...</td>\n",
       "      <td>(ROOT (S (NP (DT The) (NN church)) (VP (VBZ ha...</td>\n",
       "      <td>This church choir sings to the masses as they ...</td>\n",
       "      <td>The church has cracks in the ceiling.</td>\n",
       "      <td>2677109430.jpg#1</td>\n",
       "      <td>2677109430.jpg#1r1n</td>\n",
       "      <td>neutral</td>\n",
       "      <td>contradiction</td>\n",
       "      <td>contradiction</td>\n",
       "      <td>neutral</td>\n",
       "      <td>neutral</td>\n",
       "    </tr>\n",
       "    <tr>\n",
       "      <th>1</th>\n",
       "      <td>entailment</td>\n",
       "      <td>( ( This ( church choir ) ) ( ( ( sings ( to (...</td>\n",
       "      <td>( ( The church ) ( ( is ( filled ( with song )...</td>\n",
       "      <td>(ROOT (S (NP (DT This) (NN church) (NN choir))...</td>\n",
       "      <td>(ROOT (S (NP (DT The) (NN church)) (VP (VBZ is...</td>\n",
       "      <td>This church choir sings to the masses as they ...</td>\n",
       "      <td>The church is filled with song.</td>\n",
       "      <td>2677109430.jpg#1</td>\n",
       "      <td>2677109430.jpg#1r1e</td>\n",
       "      <td>entailment</td>\n",
       "      <td>entailment</td>\n",
       "      <td>entailment</td>\n",
       "      <td>neutral</td>\n",
       "      <td>entailment</td>\n",
       "    </tr>\n",
       "    <tr>\n",
       "      <th>2</th>\n",
       "      <td>contradiction</td>\n",
       "      <td>( ( This ( church choir ) ) ( ( ( sings ( to (...</td>\n",
       "      <td>( ( ( A choir ) ( singing ( at ( a ( baseball ...</td>\n",
       "      <td>(ROOT (S (NP (DT This) (NN church) (NN choir))...</td>\n",
       "      <td>(ROOT (NP (NP (DT A) (NN choir)) (VP (VBG sing...</td>\n",
       "      <td>This church choir sings to the masses as they ...</td>\n",
       "      <td>A choir singing at a baseball game.</td>\n",
       "      <td>2677109430.jpg#1</td>\n",
       "      <td>2677109430.jpg#1r1c</td>\n",
       "      <td>contradiction</td>\n",
       "      <td>contradiction</td>\n",
       "      <td>contradiction</td>\n",
       "      <td>contradiction</td>\n",
       "      <td>contradiction</td>\n",
       "    </tr>\n",
       "    <tr>\n",
       "      <th>3</th>\n",
       "      <td>neutral</td>\n",
       "      <td>( ( ( A woman ) ( with ( ( ( ( ( a ( green hea...</td>\n",
       "      <td>( ( The woman ) ( ( is young ) . ) )</td>\n",
       "      <td>(ROOT (NP (NP (DT A) (NN woman)) (PP (IN with)...</td>\n",
       "      <td>(ROOT (S (NP (DT The) (NN woman)) (VP (VBZ is)...</td>\n",
       "      <td>A woman with a green headscarf, blue shirt and...</td>\n",
       "      <td>The woman is young.</td>\n",
       "      <td>6160193920.jpg#4</td>\n",
       "      <td>6160193920.jpg#4r1n</td>\n",
       "      <td>neutral</td>\n",
       "      <td>neutral</td>\n",
       "      <td>neutral</td>\n",
       "      <td>neutral</td>\n",
       "      <td>neutral</td>\n",
       "    </tr>\n",
       "    <tr>\n",
       "      <th>4</th>\n",
       "      <td>entailment</td>\n",
       "      <td>( ( ( A woman ) ( with ( ( ( ( ( a ( green hea...</td>\n",
       "      <td>( ( The woman ) ( ( is ( very happy ) ) . ) )</td>\n",
       "      <td>(ROOT (NP (NP (DT A) (NN woman)) (PP (IN with)...</td>\n",
       "      <td>(ROOT (S (NP (DT The) (NN woman)) (VP (VBZ is)...</td>\n",
       "      <td>A woman with a green headscarf, blue shirt and...</td>\n",
       "      <td>The woman is very happy.</td>\n",
       "      <td>6160193920.jpg#4</td>\n",
       "      <td>6160193920.jpg#4r1e</td>\n",
       "      <td>entailment</td>\n",
       "      <td>entailment</td>\n",
       "      <td>contradiction</td>\n",
       "      <td>entailment</td>\n",
       "      <td>neutral</td>\n",
       "    </tr>\n",
       "  </tbody>\n",
       "</table>\n",
       "</div>"
      ],
      "text/plain": [
       "      gold_label                             sentence1_binary_parse  \\\n",
       "0        neutral  ( ( This ( church choir ) ) ( ( ( sings ( to (...   \n",
       "1     entailment  ( ( This ( church choir ) ) ( ( ( sings ( to (...   \n",
       "2  contradiction  ( ( This ( church choir ) ) ( ( ( sings ( to (...   \n",
       "3        neutral  ( ( ( A woman ) ( with ( ( ( ( ( a ( green hea...   \n",
       "4     entailment  ( ( ( A woman ) ( with ( ( ( ( ( a ( green hea...   \n",
       "\n",
       "                              sentence2_binary_parse  \\\n",
       "0  ( ( The church ) ( ( has ( cracks ( in ( the c...   \n",
       "1  ( ( The church ) ( ( is ( filled ( with song )...   \n",
       "2  ( ( ( A choir ) ( singing ( at ( a ( baseball ...   \n",
       "3               ( ( The woman ) ( ( is young ) . ) )   \n",
       "4      ( ( The woman ) ( ( is ( very happy ) ) . ) )   \n",
       "\n",
       "                                     sentence1_parse  \\\n",
       "0  (ROOT (S (NP (DT This) (NN church) (NN choir))...   \n",
       "1  (ROOT (S (NP (DT This) (NN church) (NN choir))...   \n",
       "2  (ROOT (S (NP (DT This) (NN church) (NN choir))...   \n",
       "3  (ROOT (NP (NP (DT A) (NN woman)) (PP (IN with)...   \n",
       "4  (ROOT (NP (NP (DT A) (NN woman)) (PP (IN with)...   \n",
       "\n",
       "                                     sentence2_parse  \\\n",
       "0  (ROOT (S (NP (DT The) (NN church)) (VP (VBZ ha...   \n",
       "1  (ROOT (S (NP (DT The) (NN church)) (VP (VBZ is...   \n",
       "2  (ROOT (NP (NP (DT A) (NN choir)) (VP (VBG sing...   \n",
       "3  (ROOT (S (NP (DT The) (NN woman)) (VP (VBZ is)...   \n",
       "4  (ROOT (S (NP (DT The) (NN woman)) (VP (VBZ is)...   \n",
       "\n",
       "                                           sentence1  \\\n",
       "0  This church choir sings to the masses as they ...   \n",
       "1  This church choir sings to the masses as they ...   \n",
       "2  This church choir sings to the masses as they ...   \n",
       "3  A woman with a green headscarf, blue shirt and...   \n",
       "4  A woman with a green headscarf, blue shirt and...   \n",
       "\n",
       "                               sentence2         captionID  \\\n",
       "0  The church has cracks in the ceiling.  2677109430.jpg#1   \n",
       "1        The church is filled with song.  2677109430.jpg#1   \n",
       "2    A choir singing at a baseball game.  2677109430.jpg#1   \n",
       "3                    The woman is young.  6160193920.jpg#4   \n",
       "4               The woman is very happy.  6160193920.jpg#4   \n",
       "\n",
       "                pairID         label1         label2         label3  \\\n",
       "0  2677109430.jpg#1r1n        neutral  contradiction  contradiction   \n",
       "1  2677109430.jpg#1r1e     entailment     entailment     entailment   \n",
       "2  2677109430.jpg#1r1c  contradiction  contradiction  contradiction   \n",
       "3  6160193920.jpg#4r1n        neutral        neutral        neutral   \n",
       "4  6160193920.jpg#4r1e     entailment     entailment  contradiction   \n",
       "\n",
       "          label4         label5  \n",
       "0        neutral        neutral  \n",
       "1        neutral     entailment  \n",
       "2  contradiction  contradiction  \n",
       "3        neutral        neutral  \n",
       "4     entailment        neutral  "
      ]
     },
     "execution_count": 141,
     "metadata": {},
     "output_type": "execute_result"
    }
   ],
   "source": [
    "test_df.head()"
   ]
  },
  {
   "cell_type": "code",
   "execution_count": 142,
   "metadata": {},
   "outputs": [],
   "source": [
    "test_df.drop(columns=[\"sentence1_binary_parse\", \"sentence2_binary_parse\", \"sentence1_parse\", \"sentence2_parse\", \"captionID\", \"pairID\", \"label1\", \"label2\", \"label3\", \"label4\", \"label5\"], inplace=True)"
   ]
  },
  {
   "cell_type": "code",
   "execution_count": 143,
   "metadata": {},
   "outputs": [
    {
     "data": {
      "text/html": [
       "<div>\n",
       "<style scoped>\n",
       "    .dataframe tbody tr th:only-of-type {\n",
       "        vertical-align: middle;\n",
       "    }\n",
       "\n",
       "    .dataframe tbody tr th {\n",
       "        vertical-align: top;\n",
       "    }\n",
       "\n",
       "    .dataframe thead th {\n",
       "        text-align: right;\n",
       "    }\n",
       "</style>\n",
       "<table border=\"1\" class=\"dataframe\">\n",
       "  <thead>\n",
       "    <tr style=\"text-align: right;\">\n",
       "      <th></th>\n",
       "      <th>gold_label</th>\n",
       "      <th>sentence1</th>\n",
       "      <th>sentence2</th>\n",
       "    </tr>\n",
       "  </thead>\n",
       "  <tbody>\n",
       "    <tr>\n",
       "      <th>0</th>\n",
       "      <td>neutral</td>\n",
       "      <td>This church choir sings to the masses as they ...</td>\n",
       "      <td>The church has cracks in the ceiling.</td>\n",
       "    </tr>\n",
       "    <tr>\n",
       "      <th>1</th>\n",
       "      <td>entailment</td>\n",
       "      <td>This church choir sings to the masses as they ...</td>\n",
       "      <td>The church is filled with song.</td>\n",
       "    </tr>\n",
       "    <tr>\n",
       "      <th>2</th>\n",
       "      <td>contradiction</td>\n",
       "      <td>This church choir sings to the masses as they ...</td>\n",
       "      <td>A choir singing at a baseball game.</td>\n",
       "    </tr>\n",
       "    <tr>\n",
       "      <th>3</th>\n",
       "      <td>neutral</td>\n",
       "      <td>A woman with a green headscarf, blue shirt and...</td>\n",
       "      <td>The woman is young.</td>\n",
       "    </tr>\n",
       "    <tr>\n",
       "      <th>4</th>\n",
       "      <td>entailment</td>\n",
       "      <td>A woman with a green headscarf, blue shirt and...</td>\n",
       "      <td>The woman is very happy.</td>\n",
       "    </tr>\n",
       "  </tbody>\n",
       "</table>\n",
       "</div>"
      ],
      "text/plain": [
       "      gold_label                                          sentence1  \\\n",
       "0        neutral  This church choir sings to the masses as they ...   \n",
       "1     entailment  This church choir sings to the masses as they ...   \n",
       "2  contradiction  This church choir sings to the masses as they ...   \n",
       "3        neutral  A woman with a green headscarf, blue shirt and...   \n",
       "4     entailment  A woman with a green headscarf, blue shirt and...   \n",
       "\n",
       "                               sentence2  \n",
       "0  The church has cracks in the ceiling.  \n",
       "1        The church is filled with song.  \n",
       "2    A choir singing at a baseball game.  \n",
       "3                    The woman is young.  \n",
       "4               The woman is very happy.  "
      ]
     },
     "execution_count": 143,
     "metadata": {},
     "output_type": "execute_result"
    }
   ],
   "source": [
    "test_df.head()"
   ]
  },
  {
   "cell_type": "code",
   "execution_count": 144,
   "metadata": {},
   "outputs": [],
   "source": [
    "test_df.dropna(inplace=True)\n",
    "test_df.reset_index(drop=True, inplace=True)\n"
   ]
  },
  {
   "cell_type": "code",
   "execution_count": 145,
   "metadata": {},
   "outputs": [],
   "source": [
    "X_test = tfidf_vectorizer.transform(test_df['sentence1'] + ' ' + test_df['sentence2'])\n",
    "y_test = test_df['gold_label']"
   ]
  },
  {
   "cell_type": "code",
   "execution_count": 146,
   "metadata": {},
   "outputs": [],
   "source": [
    "y_pred = lr.predict(X_test)"
   ]
  },
  {
   "cell_type": "code",
   "execution_count": 147,
   "metadata": {},
   "outputs": [
    {
     "name": "stdout",
     "output_type": "stream",
     "text": [
      "               precision    recall  f1-score   support\n",
      "\n",
      "            -       0.00      0.00      0.00       176\n",
      "contradiction       0.54      0.56      0.55      3237\n",
      "   entailment       0.55      0.59      0.57      3368\n",
      "      neutral       0.55      0.51      0.53      3219\n",
      "\n",
      "     accuracy                           0.54     10000\n",
      "    macro avg       0.41      0.41      0.41     10000\n",
      " weighted avg       0.53      0.54      0.54     10000\n",
      "\n",
      "Accuracy: 0.5436\n"
     ]
    },
    {
     "name": "stderr",
     "output_type": "stream",
     "text": [
      "/Users/bhanujggandhi/devtools/miniconda3/envs/tensorflow/lib/python3.10/site-packages/sklearn/metrics/_classification.py:1344: UndefinedMetricWarning: Precision and F-score are ill-defined and being set to 0.0 in labels with no predicted samples. Use `zero_division` parameter to control this behavior.\n",
      "  _warn_prf(average, modifier, msg_start, len(result))\n",
      "/Users/bhanujggandhi/devtools/miniconda3/envs/tensorflow/lib/python3.10/site-packages/sklearn/metrics/_classification.py:1344: UndefinedMetricWarning: Precision and F-score are ill-defined and being set to 0.0 in labels with no predicted samples. Use `zero_division` parameter to control this behavior.\n",
      "  _warn_prf(average, modifier, msg_start, len(result))\n",
      "/Users/bhanujggandhi/devtools/miniconda3/envs/tensorflow/lib/python3.10/site-packages/sklearn/metrics/_classification.py:1344: UndefinedMetricWarning: Precision and F-score are ill-defined and being set to 0.0 in labels with no predicted samples. Use `zero_division` parameter to control this behavior.\n",
      "  _warn_prf(average, modifier, msg_start, len(result))\n"
     ]
    }
   ],
   "source": [
    "print(classification_report(y_test, y_pred))\n",
    "print('Accuracy:', accuracy_score(y_test, y_pred))"
   ]
  },
  {
   "cell_type": "code",
   "execution_count": 148,
   "metadata": {},
   "outputs": [
    {
     "name": "stdout",
     "output_type": "stream",
     "text": [
      "Fitting 5 folds for each of 3 candidates, totalling 15 fits\n",
      "[CV] END ..............................................C=0.1; total time= 1.3min\n",
      "[CV] END ..............................................C=0.1; total time= 1.4min\n",
      "[CV] END ..............................................C=0.1; total time= 1.4min\n",
      "[CV] END ..............................................C=0.1; total time= 1.4min\n",
      "[CV] END ..............................................C=0.1; total time= 1.5min\n",
      "[CV] END ................................................C=1; total time= 3.6min\n",
      "[CV] END ................................................C=1; total time= 4.0min\n",
      "[CV] END ................................................C=1; total time= 4.3min\n",
      "[CV] END ................................................C=1; total time= 3.9min\n",
      "[CV] END ................................................C=1; total time= 4.0min\n",
      "[CV] END ...............................................C=10; total time= 7.4min\n",
      "[CV] END ...............................................C=10; total time= 7.5min\n",
      "[CV] END ...............................................C=10; total time= 7.9min\n",
      "[CV] END ...............................................C=10; total time= 5.8min\n",
      "[CV] END ...............................................C=10; total time= 6.4min\n"
     ]
    }
   ],
   "source": [
    "# Hyperparameter tuning\n",
    "param_grid = {'C': [0.1, 1, 10]}\n",
    "grid_search = GridSearchCV(lr, param_grid, cv=5, verbose=2, n_jobs=-1)\n",
    "grid_search.fit(X_train, label_list)\n",
    "\n",
    "y_pred = grid_search.predict(X_test)"
   ]
  },
  {
   "cell_type": "code",
   "execution_count": 152,
   "metadata": {},
   "outputs": [
    {
     "name": "stdout",
     "output_type": "stream",
     "text": [
      "{'C': 10}\n",
      "               precision    recall  f1-score   support\n",
      "\n",
      "            -       0.00      0.00      0.00       176\n",
      "contradiction       0.54      0.57      0.55      3237\n",
      "   entailment       0.55      0.58      0.57      3368\n",
      "      neutral       0.55      0.50      0.52      3219\n",
      "\n",
      "     accuracy                           0.54     10000\n",
      "    macro avg       0.41      0.42      0.41     10000\n",
      " weighted avg       0.53      0.54      0.54     10000\n",
      "\n",
      "Accuracy: 0.5441\n"
     ]
    },
    {
     "name": "stderr",
     "output_type": "stream",
     "text": [
      "/Users/bhanujggandhi/devtools/miniconda3/envs/tensorflow/lib/python3.10/site-packages/sklearn/metrics/_classification.py:1344: UndefinedMetricWarning: Precision and F-score are ill-defined and being set to 0.0 in labels with no predicted samples. Use `zero_division` parameter to control this behavior.\n",
      "  _warn_prf(average, modifier, msg_start, len(result))\n",
      "/Users/bhanujggandhi/devtools/miniconda3/envs/tensorflow/lib/python3.10/site-packages/sklearn/metrics/_classification.py:1344: UndefinedMetricWarning: Precision and F-score are ill-defined and being set to 0.0 in labels with no predicted samples. Use `zero_division` parameter to control this behavior.\n",
      "  _warn_prf(average, modifier, msg_start, len(result))\n",
      "/Users/bhanujggandhi/devtools/miniconda3/envs/tensorflow/lib/python3.10/site-packages/sklearn/metrics/_classification.py:1344: UndefinedMetricWarning: Precision and F-score are ill-defined and being set to 0.0 in labels with no predicted samples. Use `zero_division` parameter to control this behavior.\n",
      "  _warn_prf(average, modifier, msg_start, len(result))\n"
     ]
    }
   ],
   "source": [
    "print(grid_search.best_params_)\n",
    "\n",
    "print(classification_report(y_test, y_pred))\n",
    "print('Accuracy:', accuracy_score(y_test, y_pred))"
   ]
  },
  {
   "attachments": {},
   "cell_type": "markdown",
   "metadata": {},
   "source": [
    "## BiDirectional LSTM"
   ]
  },
  {
   "cell_type": "code",
   "execution_count": 187,
   "metadata": {},
   "outputs": [],
   "source": [
    "import pandas as pd\n",
    "import numpy as np\n",
    "from sklearn.preprocessing import LabelEncoder\n",
    "from sklearn.model_selection import train_test_split\n",
    "from keras.preprocessing.text import Tokenizer\n",
    "from keras.utils import pad_sequences\n",
    "from keras.models import Sequential\n",
    "from keras.layers import Embedding, Bidirectional, LSTM, Dense, Dropout\n",
    "from keras.callbacks import EarlyStopping, ModelCheckpoint\n",
    "from keras.utils import to_categorical\n",
    "from keras.utils.vis_utils import plot_model\n",
    "\n",
    "import nltk"
   ]
  },
  {
   "cell_type": "code",
   "execution_count": 172,
   "metadata": {},
   "outputs": [],
   "source": [
    "\n",
    "# Load the dataset\n",
    "train_df = pd.read_csv('./snli_1.0/snli_1.0_train.txt', delimiter='\\t', encoding='utf-8',on_bad_lines='skip')\n",
    "val_df = pd.read_csv('./snli_1.0/snli_1.0_dev.txt', delimiter='\\t', encoding='utf-8',on_bad_lines='skip')\n",
    "test_df = pd.read_csv('./snli_1.0/snli_1.0_test.txt', delimiter='\\t', encoding='utf-8',on_bad_lines='skip')\n"
   ]
  },
  {
   "cell_type": "code",
   "execution_count": 173,
   "metadata": {},
   "outputs": [],
   "source": [
    "\n",
    "# Preprocess the data\n",
    "train_df.dropna(inplace=True)\n",
    "train_df.drop(train_df.loc[train_df['gold_label']=='-'].index, inplace=True)\n",
    "train_df.reset_index(drop=True, inplace=True)\n",
    "\n",
    "val_df.dropna(inplace=True)\n",
    "val_df.drop(val_df.loc[val_df['gold_label']=='-'].index, inplace=True)\n",
    "val_df.reset_index(drop=True, inplace=True)\n",
    "\n",
    "test_df.dropna(inplace=True)\n",
    "test_df.drop(test_df.loc[test_df['gold_label']=='-'].index, inplace=True)\n",
    "test_df.reset_index(drop=True, inplace=True)\n"
   ]
  },
  {
   "cell_type": "code",
   "execution_count": 177,
   "metadata": {},
   "outputs": [],
   "source": [
    "train_df['sentence1'] = train_df['sentence1'].apply(lambda x: ' '.join([word for word in nltk.word_tokenize(x.lower())]))\n",
    "train_df['sentence2'] = train_df['sentence2'].apply(lambda x: ' '.join([word for word in nltk.word_tokenize(x.lower())]))\n",
    "val_df['sentence1'] = val_df['sentence1'].apply(lambda x: ' '.join([word for word in nltk.word_tokenize(x.lower())]))\n",
    "val_df['sentence2'] = val_df['sentence2'].apply(lambda x: ' '.join([word for word in nltk.word_tokenize(x.lower())]))\n",
    "test_df['sentence1'] = test_df['sentence1'].apply(lambda x: ' '.join([word for word in nltk.word_tokenize(x.lower())]))\n",
    "test_df['sentence2'] = test_df['sentence2'].apply(lambda x: ' '.join([word for word in nltk.word_tokenize(x.lower())]))"
   ]
  },
  {
   "cell_type": "code",
   "execution_count": 178,
   "metadata": {},
   "outputs": [],
   "source": [
    "# Encode the labels\n",
    "label_encoder = LabelEncoder()\n",
    "label_encoder.fit(train_df['gold_label'])\n",
    "num_classes = len(label_encoder.classes_)"
   ]
  },
  {
   "cell_type": "code",
   "execution_count": 179,
   "metadata": {},
   "outputs": [
    {
     "name": "stdout",
     "output_type": "stream",
     "text": [
      "3\n"
     ]
    }
   ],
   "source": [
    "print(num_classes)"
   ]
  },
  {
   "cell_type": "code",
   "execution_count": 180,
   "metadata": {},
   "outputs": [],
   "source": [
    "# Make sure all labels in the validation/test set are included in the training set labels\n",
    "val_labels = set(val_df['gold_label'].unique())\n",
    "test_labels = set(test_df['gold_label'].unique())\n",
    "new_labels = val_labels.union(test_labels) - set(label_encoder.classes_)\n",
    "if new_labels:\n",
    "    label_encoder.classes_ = np.concatenate([label_encoder.classes_, np.array(list(new_labels))])\n",
    "    num_classes = len(label_encoder.classes_)\n",
    "\n",
    "y_train = label_encoder.transform(train_df['gold_label'])\n",
    "y_val = label_encoder.transform(val_df['gold_label'])\n",
    "y_test = label_encoder.transform(test_df['gold_label'])"
   ]
  },
  {
   "cell_type": "code",
   "execution_count": 181,
   "metadata": {},
   "outputs": [
    {
     "data": {
      "text/plain": [
       "array(['neutral', 'contradiction', 'entailment'], dtype=object)"
      ]
     },
     "execution_count": 181,
     "metadata": {},
     "output_type": "execute_result"
    }
   ],
   "source": [
    "train_df[\"gold_label\"].unique()"
   ]
  },
  {
   "cell_type": "code",
   "execution_count": 182,
   "metadata": {},
   "outputs": [],
   "source": [
    "# Tokenize the text\n",
    "tokenizer = Tokenizer(num_words=5000, oov_token=\"<OOV>\")\n",
    "tokenizer.fit_on_texts(train_df['sentence1'] + ' ' + train_df['sentence2'])\n",
    "\n",
    "X_train = tokenizer.texts_to_sequences(train_df['sentence1'] + ' ' + train_df['sentence2'])\n",
    "X_val = tokenizer.texts_to_sequences(val_df['sentence1'] + ' ' + val_df['sentence2'])\n",
    "X_test = tokenizer.texts_to_sequences(test_df['sentence1'] + ' ' + test_df['sentence2'])"
   ]
  },
  {
   "cell_type": "code",
   "execution_count": 183,
   "metadata": {},
   "outputs": [
    {
     "name": "stdout",
     "output_type": "stream",
     "text": [
      "Metal device set to: Apple M2\n",
      "\n",
      "systemMemory: 8.00 GB\n",
      "maxCacheSize: 2.67 GB\n",
      "\n"
     ]
    },
    {
     "name": "stderr",
     "output_type": "stream",
     "text": [
      "2023-03-14 19:37:59.855497: I tensorflow/core/common_runtime/pluggable_device/pluggable_device_factory.cc:305] Could not identify NUMA node of platform GPU ID 0, defaulting to 0. Your kernel may not have been built with NUMA support.\n",
      "2023-03-14 19:37:59.857182: I tensorflow/core/common_runtime/pluggable_device/pluggable_device_factory.cc:271] Created TensorFlow device (/job:localhost/replica:0/task:0/device:GPU:0 with 0 MB memory) -> physical PluggableDevice (device: 0, name: METAL, pci bus id: <undefined>)\n"
     ]
    }
   ],
   "source": [
    "# Pad the sequences\n",
    "max_len = 100\n",
    "X_train = pad_sequences(X_train, maxlen=max_len)\n",
    "X_val = pad_sequences(X_val, maxlen=max_len)\n",
    "X_test = pad_sequences(X_test, maxlen=max_len)\n",
    "\n",
    "# Convert the labels to one-hot vectors\n",
    "y_train = to_categorical(y_train, num_classes)\n",
    "y_val = to_categorical(y_val, num_classes)\n",
    "\n",
    "# Build the model\n",
    "model = Sequential()\n",
    "model.add(Embedding(input_dim=5000, output_dim=32, input_length=max_len))\n",
    "model.add(Bidirectional(LSTM(64, return_sequences=True)))\n",
    "model.add(Dropout(0.5))\n",
    "model.add(Bidirectional(LSTM(32)))\n",
    "model.add(Dropout(0.5))\n",
    "model.add(Dense(num_classes, activation='softmax'))"
   ]
  },
  {
   "cell_type": "code",
   "execution_count": 191,
   "metadata": {},
   "outputs": [],
   "source": [
    "model.compile(optimizer='adam', loss='categorical_crossentropy', metrics=['accuracy'], run_eagerly=True)"
   ]
  },
  {
   "cell_type": "code",
   "execution_count": 192,
   "metadata": {},
   "outputs": [
    {
     "name": "stdout",
     "output_type": "stream",
     "text": [
      "Model: \"sequential\"\n",
      "_________________________________________________________________\n",
      " Layer (type)                Output Shape              Param #   \n",
      "=================================================================\n",
      " embedding (Embedding)       (None, 100, 32)           160000    \n",
      "                                                                 \n",
      " bidirectional (Bidirectiona  (None, 100, 128)         49664     \n",
      " l)                                                              \n",
      "                                                                 \n",
      " dropout (Dropout)           (None, 100, 128)          0         \n",
      "                                                                 \n",
      " bidirectional_1 (Bidirectio  (None, 64)               41216     \n",
      " nal)                                                            \n",
      "                                                                 \n",
      " dropout_1 (Dropout)         (None, 64)                0         \n",
      "                                                                 \n",
      " dense (Dense)               (None, 3)                 195       \n",
      "                                                                 \n",
      "=================================================================\n",
      "Total params: 251,075\n",
      "Trainable params: 251,075\n",
      "Non-trainable params: 0\n",
      "_________________________________________________________________\n"
     ]
    }
   ],
   "source": [
    "model.summary()"
   ]
  },
  {
   "cell_type": "code",
   "execution_count": 193,
   "metadata": {},
   "outputs": [
    {
     "data": {
      "image/png": "[encoded data removed]",
      "text/plain": [
       "<IPython.core.display.Image object>"
      ]
     },
     "execution_count": 193,
     "metadata": {},
     "output_type": "execute_result"
    }
   ],
   "source": [
    "plot_model(model, to_file='model_plot.png', show_shapes=True, show_layer_names=True)"
   ]
  },
  {
   "cell_type": "code",
   "execution_count": 194,
   "metadata": {},
   "outputs": [],
   "source": [
    "\n",
    "# Train the model\n",
    "es = EarlyStopping(monitor='val_loss', mode='min', verbose=1, patience=3)\n",
    "mc = ModelCheckpoint('best_model.h5', monitor='val_accuracy', mode='max', verbose=1, save_best_only=True)"
   ]
  },
  {
   "cell_type": "code",
   "execution_count": 195,
   "metadata": {},
   "outputs": [
    {
     "name": "stdout",
     "output_type": "stream",
     "text": [
      "Epoch 1/20\n"
     ]
    },
    {
     "name": "stderr",
     "output_type": "stream",
     "text": [
      "2023-03-14 19:41:03.353352: W tensorflow/core/platform/profile_utils/cpu_utils.cc:128] Failed to get CPU frequency: 0 Hz\n"
     ]
    },
    {
     "name": "stdout",
     "output_type": "stream",
     "text": [
      "284/284 [==============================] - ETA: 0s - loss: 0.9903 - accuracy: 0.4975\n",
      "Epoch 1: val_accuracy improved from -inf to 0.58672, saving model to best_model.h5\n",
      "284/284 [==============================] - 75s 256ms/step - loss: 0.9903 - accuracy: 0.4975 - val_loss: 0.8924 - val_accuracy: 0.5867\n",
      "Epoch 2/20\n",
      "284/284 [==============================] - ETA: 0s - loss: 0.8392 - accuracy: 0.6261\n",
      "Epoch 2: val_accuracy improved from 0.58672 to 0.60330, saving model to best_model.h5\n",
      "284/284 [==============================] - 70s 247ms/step - loss: 0.8392 - accuracy: 0.6261 - val_loss: 0.8729 - val_accuracy: 0.6033\n",
      "Epoch 3/20\n",
      "284/284 [==============================] - ETA: 0s - loss: 0.7715 - accuracy: 0.6647\n",
      "Epoch 3: val_accuracy improved from 0.60330 to 0.60869, saving model to best_model.h5\n",
      "284/284 [==============================] - 70s 247ms/step - loss: 0.7715 - accuracy: 0.6647 - val_loss: 0.8631 - val_accuracy: 0.6087\n",
      "Epoch 4/20\n",
      "284/284 [==============================] - ETA: 0s - loss: 0.7217 - accuracy: 0.6949\n",
      "Epoch 4: val_accuracy did not improve from 0.60869\n",
      "284/284 [==============================] - 70s 245ms/step - loss: 0.7217 - accuracy: 0.6949 - val_loss: 0.8755 - val_accuracy: 0.6013\n",
      "Epoch 5/20\n",
      "284/284 [==============================] - ETA: 0s - loss: 0.6758 - accuracy: 0.7202\n",
      "Epoch 5: val_accuracy did not improve from 0.60869\n",
      "284/284 [==============================] - 70s 248ms/step - loss: 0.6758 - accuracy: 0.7202 - val_loss: 0.9218 - val_accuracy: 0.6018\n",
      "Epoch 6/20\n",
      "284/284 [==============================] - ETA: 0s - loss: 0.6328 - accuracy: 0.7418\n",
      "Epoch 6: val_accuracy did not improve from 0.60869\n",
      "284/284 [==============================] - 71s 250ms/step - loss: 0.6328 - accuracy: 0.7418 - val_loss: 0.9561 - val_accuracy: 0.5921\n",
      "Epoch 6: early stopping\n"
     ]
    }
   ],
   "source": [
    "\n",
    "history = model.fit(X_train, y_train, validation_data=(X_val, y_val), epochs=20, batch_size=128, callbacks=[mc, es])"
   ]
  },
  {
   "cell_type": "code",
   "execution_count": 196,
   "metadata": {},
   "outputs": [
    {
     "name": "stdout",
     "output_type": "stream",
     "text": [
      "307/307 [==============================] - 25s 79ms/step\n"
     ]
    }
   ],
   "source": [
    "model.load_weights('best_model.h5')\n",
    "y_pred = model.predict(X_test)\n",
    "y_pred = np.argmax(y_pred, axis=1)"
   ]
  },
  {
   "cell_type": "code",
   "execution_count": 197,
   "metadata": {},
   "outputs": [
    {
     "name": "stdout",
     "output_type": "stream",
     "text": [
      "              precision    recall  f1-score   support\n",
      "\n",
      "           0       0.54      0.61      0.57      2853\n",
      "           1       0.68      0.61      0.64      3750\n",
      "           2       0.60      0.60      0.60      3212\n",
      "\n",
      "    accuracy                           0.61      9815\n",
      "   macro avg       0.61      0.61      0.61      9815\n",
      "weighted avg       0.61      0.61      0.61      9815\n",
      "\n"
     ]
    }
   ],
   "source": [
    "print(classification_report(y_pred, y_test))"
   ]
  },
  {
   "cell_type": "code",
   "execution_count": null,
   "metadata": {},
   "outputs": [],
   "source": []
  }
 ],
 "metadata": {
  "kernelspec": {
   "display_name": "nlp_learn",
   "language": "python",
   "name": "python3"
  },
  "language_info": {
   "codemirror_mode": {
    "name": "ipython",
    "version": 3
   },
   "file_extension": ".py",
   "mimetype": "text/x-python",
   "name": "python",
   "nbconvert_exporter": "python",
   "pygments_lexer": "ipython3",
   "version": "3.10.9"
  },
  "orig_nbformat": 4
 },
 "nbformat": 4,
 "nbformat_minor": 2
}
